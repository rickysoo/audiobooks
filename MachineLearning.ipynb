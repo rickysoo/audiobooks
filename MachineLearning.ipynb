{
 "cells": [
  {
   "cell_type": "code",
   "execution_count": 1,
   "metadata": {},
   "outputs": [],
   "source": [
    "import pandas as pd\n",
    "import numpy as np\n",
    "\n",
    "import matplotlib.pyplot as plt\n",
    "import seaborn as sns\n",
    "%matplotlib inline\n",
    "\n",
    "import joblib\n",
    "\n",
    "from sklearn.preprocessing import StandardScaler\n",
    "from sklearn.model_selection import train_test_split\n",
    "\n",
    "from sklearn.linear_model import LogisticRegression\n",
    "from sklearn.ensemble import RandomForestClassifier\n",
    "from sklearn.ensemble import GradientBoostingClassifier\n",
    "from sklearn.model_selection import GridSearchCV\n",
    "\n",
    "from sklearn.metrics import accuracy_score, precision_score, recall_score, f1_score\n",
    "from time import time"
   ]
  },
  {
   "cell_type": "markdown",
   "metadata": {},
   "source": [
    "## Prepare Data"
   ]
  },
  {
   "cell_type": "code",
   "execution_count": 2,
   "metadata": {},
   "outputs": [],
   "source": [
    "df = pd.read_csv('all_english_audible6.csv')"
   ]
  },
  {
   "cell_type": "code",
   "execution_count": 3,
   "metadata": {},
   "outputs": [],
   "source": [
    "# Comment this for a full run with the entire data set\n",
    "# Uncomment for a quick run with a smaller data set\n",
    "\n",
    "# df = df.sample(1000, random_state = 42)"
   ]
  },
  {
   "cell_type": "code",
   "execution_count": 4,
   "metadata": {},
   "outputs": [
    {
     "data": {
      "text/html": [
       "<div>\n",
       "<style scoped>\n",
       "    .dataframe tbody tr th:only-of-type {\n",
       "        vertical-align: middle;\n",
       "    }\n",
       "\n",
       "    .dataframe tbody tr th {\n",
       "        vertical-align: top;\n",
       "    }\n",
       "\n",
       "    .dataframe thead th {\n",
       "        text-align: right;\n",
       "    }\n",
       "</style>\n",
       "<table border=\"1\" class=\"dataframe\">\n",
       "  <thead>\n",
       "    <tr style=\"text-align: right;\">\n",
       "      <th></th>\n",
       "      <th>Unnamed: 0</th>\n",
       "      <th>asin</th>\n",
       "      <th>author</th>\n",
       "      <th>category</th>\n",
       "      <th>link</th>\n",
       "      <th>narrator</th>\n",
       "      <th>price</th>\n",
       "      <th>rating</th>\n",
       "      <th>rating_count</th>\n",
       "      <th>release_date</th>\n",
       "      <th>title</th>\n",
       "      <th>Length in Minutes</th>\n",
       "      <th>Percentile Rank</th>\n",
       "      <th>Popularity</th>\n",
       "      <th>Popularity 2</th>\n",
       "    </tr>\n",
       "  </thead>\n",
       "  <tbody>\n",
       "    <tr>\n",
       "      <th>0</th>\n",
       "      <td>0</td>\n",
       "      <td>0062823485</td>\n",
       "      <td>Paul Stanley</td>\n",
       "      <td>Arts &amp; Entertainment</td>\n",
       "      <td>https://www.audible.com/pd/Backstage-Pass-Audi...</td>\n",
       "      <td>Sean Pratt</td>\n",
       "      <td>20.52</td>\n",
       "      <td>4.0</td>\n",
       "      <td>78.0</td>\n",
       "      <td>4/30/2019</td>\n",
       "      <td>Backstage Pass</td>\n",
       "      <td>278.0</td>\n",
       "      <td>0.782425</td>\n",
       "      <td>Popular</td>\n",
       "      <td>1</td>\n",
       "    </tr>\n",
       "    <tr>\n",
       "      <th>1</th>\n",
       "      <td>1</td>\n",
       "      <td>B0052OM9XK</td>\n",
       "      <td>Simon Pegg</td>\n",
       "      <td>Arts &amp; Entertainment</td>\n",
       "      <td>https://www.audible.com/pd/Nerd-Do-Well-Audiob...</td>\n",
       "      <td>Simon Pegg</td>\n",
       "      <td>24.50</td>\n",
       "      <td>4.5</td>\n",
       "      <td>872.0</td>\n",
       "      <td>6/9/2011</td>\n",
       "      <td>Nerd Do Well</td>\n",
       "      <td>290.0</td>\n",
       "      <td>0.963669</td>\n",
       "      <td>Popular</td>\n",
       "      <td>1</td>\n",
       "    </tr>\n",
       "    <tr>\n",
       "      <th>2</th>\n",
       "      <td>2</td>\n",
       "      <td>B077XN66F8</td>\n",
       "      <td>Sidney Lumet</td>\n",
       "      <td>Arts &amp; Entertainment</td>\n",
       "      <td>https://www.audible.com/pd/Making-Movies-Audio...</td>\n",
       "      <td>Richard M. Davidson</td>\n",
       "      <td>20.99</td>\n",
       "      <td>5.0</td>\n",
       "      <td>90.0</td>\n",
       "      <td>12/5/2017</td>\n",
       "      <td>Making Movies</td>\n",
       "      <td>443.0</td>\n",
       "      <td>0.799271</td>\n",
       "      <td>Popular</td>\n",
       "      <td>1</td>\n",
       "    </tr>\n",
       "    <tr>\n",
       "      <th>3</th>\n",
       "      <td>3</td>\n",
       "      <td>B00C75YMJ6</td>\n",
       "      <td>Phil Robertson</td>\n",
       "      <td>Arts &amp; Entertainment</td>\n",
       "      <td>https://www.audible.com/pd/Happy-Happy-Happy-A...</td>\n",
       "      <td>Al Robertson, Phil Robertson</td>\n",
       "      <td>20.99</td>\n",
       "      <td>4.5</td>\n",
       "      <td>805.0</td>\n",
       "      <td>5/7/2013</td>\n",
       "      <td>Happy, Happy, Happy</td>\n",
       "      <td>297.0</td>\n",
       "      <td>0.960935</td>\n",
       "      <td>Popular</td>\n",
       "      <td>1</td>\n",
       "    </tr>\n",
       "    <tr>\n",
       "      <th>4</th>\n",
       "      <td>4</td>\n",
       "      <td>B00DCD16GE</td>\n",
       "      <td>Robert Greenberg, The Great Courses</td>\n",
       "      <td>Arts &amp; Entertainment</td>\n",
       "      <td>https://www.audible.com/pd/How-to-Listen-to-an...</td>\n",
       "      <td>Robert Greenberg</td>\n",
       "      <td>52.95</td>\n",
       "      <td>5.0</td>\n",
       "      <td>585.0</td>\n",
       "      <td>7/8/2013</td>\n",
       "      <td>How to Listen to and Understand Opera</td>\n",
       "      <td>1465.0</td>\n",
       "      <td>0.948009</td>\n",
       "      <td>Popular</td>\n",
       "      <td>1</td>\n",
       "    </tr>\n",
       "  </tbody>\n",
       "</table>\n",
       "</div>"
      ],
      "text/plain": [
       "   Unnamed: 0        asin                               author  \\\n",
       "0           0  0062823485                         Paul Stanley   \n",
       "1           1  B0052OM9XK                           Simon Pegg   \n",
       "2           2  B077XN66F8                         Sidney Lumet   \n",
       "3           3  B00C75YMJ6                       Phil Robertson   \n",
       "4           4  B00DCD16GE  Robert Greenberg, The Great Courses   \n",
       "\n",
       "               category                                               link  \\\n",
       "0  Arts & Entertainment  https://www.audible.com/pd/Backstage-Pass-Audi...   \n",
       "1  Arts & Entertainment  https://www.audible.com/pd/Nerd-Do-Well-Audiob...   \n",
       "2  Arts & Entertainment  https://www.audible.com/pd/Making-Movies-Audio...   \n",
       "3  Arts & Entertainment  https://www.audible.com/pd/Happy-Happy-Happy-A...   \n",
       "4  Arts & Entertainment  https://www.audible.com/pd/How-to-Listen-to-an...   \n",
       "\n",
       "                       narrator  price  rating  rating_count release_date  \\\n",
       "0                    Sean Pratt  20.52     4.0          78.0    4/30/2019   \n",
       "1                    Simon Pegg  24.50     4.5         872.0     6/9/2011   \n",
       "2           Richard M. Davidson  20.99     5.0          90.0    12/5/2017   \n",
       "3  Al Robertson, Phil Robertson  20.99     4.5         805.0     5/7/2013   \n",
       "4              Robert Greenberg  52.95     5.0         585.0     7/8/2013   \n",
       "\n",
       "                                   title  Length in Minutes  Percentile Rank  \\\n",
       "0                         Backstage Pass              278.0         0.782425   \n",
       "1                           Nerd Do Well              290.0         0.963669   \n",
       "2                          Making Movies              443.0         0.799271   \n",
       "3                    Happy, Happy, Happy              297.0         0.960935   \n",
       "4  How to Listen to and Understand Opera             1465.0         0.948009   \n",
       "\n",
       "  Popularity  Popularity 2  \n",
       "0    Popular             1  \n",
       "1    Popular             1  \n",
       "2    Popular             1  \n",
       "3    Popular             1  \n",
       "4    Popular             1  "
      ]
     },
     "execution_count": 4,
     "metadata": {},
     "output_type": "execute_result"
    }
   ],
   "source": [
    "df.head()"
   ]
  },
  {
   "cell_type": "code",
   "execution_count": 5,
   "metadata": {},
   "outputs": [
    {
     "data": {
      "text/plain": [
       "(355109, 15)"
      ]
     },
     "execution_count": 5,
     "metadata": {},
     "output_type": "execute_result"
    }
   ],
   "source": [
    "df.shape"
   ]
  },
  {
   "cell_type": "markdown",
   "metadata": {},
   "source": [
    "Remove unnecessary columns."
   ]
  },
  {
   "cell_type": "code",
   "execution_count": 6,
   "metadata": {},
   "outputs": [
    {
     "data": {
      "text/html": [
       "<div>\n",
       "<style scoped>\n",
       "    .dataframe tbody tr th:only-of-type {\n",
       "        vertical-align: middle;\n",
       "    }\n",
       "\n",
       "    .dataframe tbody tr th {\n",
       "        vertical-align: top;\n",
       "    }\n",
       "\n",
       "    .dataframe thead th {\n",
       "        text-align: right;\n",
       "    }\n",
       "</style>\n",
       "<table border=\"1\" class=\"dataframe\">\n",
       "  <thead>\n",
       "    <tr style=\"text-align: right;\">\n",
       "      <th></th>\n",
       "      <th>asin</th>\n",
       "      <th>author</th>\n",
       "      <th>category</th>\n",
       "      <th>narrator</th>\n",
       "      <th>price</th>\n",
       "      <th>rating</th>\n",
       "      <th>rating_count</th>\n",
       "      <th>release_date</th>\n",
       "      <th>title</th>\n",
       "      <th>Length in Minutes</th>\n",
       "    </tr>\n",
       "  </thead>\n",
       "  <tbody>\n",
       "    <tr>\n",
       "      <th>0</th>\n",
       "      <td>0062823485</td>\n",
       "      <td>Paul Stanley</td>\n",
       "      <td>Arts &amp; Entertainment</td>\n",
       "      <td>Sean Pratt</td>\n",
       "      <td>20.52</td>\n",
       "      <td>4.0</td>\n",
       "      <td>78.0</td>\n",
       "      <td>4/30/2019</td>\n",
       "      <td>Backstage Pass</td>\n",
       "      <td>278.0</td>\n",
       "    </tr>\n",
       "    <tr>\n",
       "      <th>1</th>\n",
       "      <td>B0052OM9XK</td>\n",
       "      <td>Simon Pegg</td>\n",
       "      <td>Arts &amp; Entertainment</td>\n",
       "      <td>Simon Pegg</td>\n",
       "      <td>24.50</td>\n",
       "      <td>4.5</td>\n",
       "      <td>872.0</td>\n",
       "      <td>6/9/2011</td>\n",
       "      <td>Nerd Do Well</td>\n",
       "      <td>290.0</td>\n",
       "    </tr>\n",
       "    <tr>\n",
       "      <th>2</th>\n",
       "      <td>B077XN66F8</td>\n",
       "      <td>Sidney Lumet</td>\n",
       "      <td>Arts &amp; Entertainment</td>\n",
       "      <td>Richard M. Davidson</td>\n",
       "      <td>20.99</td>\n",
       "      <td>5.0</td>\n",
       "      <td>90.0</td>\n",
       "      <td>12/5/2017</td>\n",
       "      <td>Making Movies</td>\n",
       "      <td>443.0</td>\n",
       "    </tr>\n",
       "    <tr>\n",
       "      <th>3</th>\n",
       "      <td>B00C75YMJ6</td>\n",
       "      <td>Phil Robertson</td>\n",
       "      <td>Arts &amp; Entertainment</td>\n",
       "      <td>Al Robertson, Phil Robertson</td>\n",
       "      <td>20.99</td>\n",
       "      <td>4.5</td>\n",
       "      <td>805.0</td>\n",
       "      <td>5/7/2013</td>\n",
       "      <td>Happy, Happy, Happy</td>\n",
       "      <td>297.0</td>\n",
       "    </tr>\n",
       "    <tr>\n",
       "      <th>4</th>\n",
       "      <td>B00DCD16GE</td>\n",
       "      <td>Robert Greenberg, The Great Courses</td>\n",
       "      <td>Arts &amp; Entertainment</td>\n",
       "      <td>Robert Greenberg</td>\n",
       "      <td>52.95</td>\n",
       "      <td>5.0</td>\n",
       "      <td>585.0</td>\n",
       "      <td>7/8/2013</td>\n",
       "      <td>How to Listen to and Understand Opera</td>\n",
       "      <td>1465.0</td>\n",
       "    </tr>\n",
       "  </tbody>\n",
       "</table>\n",
       "</div>"
      ],
      "text/plain": [
       "         asin                               author              category  \\\n",
       "0  0062823485                         Paul Stanley  Arts & Entertainment   \n",
       "1  B0052OM9XK                           Simon Pegg  Arts & Entertainment   \n",
       "2  B077XN66F8                         Sidney Lumet  Arts & Entertainment   \n",
       "3  B00C75YMJ6                       Phil Robertson  Arts & Entertainment   \n",
       "4  B00DCD16GE  Robert Greenberg, The Great Courses  Arts & Entertainment   \n",
       "\n",
       "                       narrator  price  rating  rating_count release_date  \\\n",
       "0                    Sean Pratt  20.52     4.0          78.0    4/30/2019   \n",
       "1                    Simon Pegg  24.50     4.5         872.0     6/9/2011   \n",
       "2           Richard M. Davidson  20.99     5.0          90.0    12/5/2017   \n",
       "3  Al Robertson, Phil Robertson  20.99     4.5         805.0     5/7/2013   \n",
       "4              Robert Greenberg  52.95     5.0         585.0     7/8/2013   \n",
       "\n",
       "                                   title  Length in Minutes  \n",
       "0                         Backstage Pass              278.0  \n",
       "1                           Nerd Do Well              290.0  \n",
       "2                          Making Movies              443.0  \n",
       "3                    Happy, Happy, Happy              297.0  \n",
       "4  How to Listen to and Understand Opera             1465.0  "
      ]
     },
     "execution_count": 6,
     "metadata": {},
     "output_type": "execute_result"
    }
   ],
   "source": [
    "df.drop(['Unnamed: 0', 'link', 'Percentile Rank', 'Popularity', 'Popularity 2'], axis = 1, inplace = True)\n",
    "df.head()"
   ]
  },
  {
   "cell_type": "markdown",
   "metadata": {},
   "source": [
    "Rename columns for easier processing."
   ]
  },
  {
   "cell_type": "code",
   "execution_count": 7,
   "metadata": {
    "scrolled": true
   },
   "outputs": [
    {
     "data": {
      "text/html": [
       "<div>\n",
       "<style scoped>\n",
       "    .dataframe tbody tr th:only-of-type {\n",
       "        vertical-align: middle;\n",
       "    }\n",
       "\n",
       "    .dataframe tbody tr th {\n",
       "        vertical-align: top;\n",
       "    }\n",
       "\n",
       "    .dataframe thead th {\n",
       "        text-align: right;\n",
       "    }\n",
       "</style>\n",
       "<table border=\"1\" class=\"dataframe\">\n",
       "  <thead>\n",
       "    <tr style=\"text-align: right;\">\n",
       "      <th></th>\n",
       "      <th>ASIN</th>\n",
       "      <th>Author</th>\n",
       "      <th>Category</th>\n",
       "      <th>Narrator</th>\n",
       "      <th>Price</th>\n",
       "      <th>Rating</th>\n",
       "      <th>RatingCount</th>\n",
       "      <th>ReleaseDate</th>\n",
       "      <th>Title</th>\n",
       "      <th>Length</th>\n",
       "    </tr>\n",
       "  </thead>\n",
       "  <tbody>\n",
       "    <tr>\n",
       "      <th>0</th>\n",
       "      <td>0062823485</td>\n",
       "      <td>Paul Stanley</td>\n",
       "      <td>Arts &amp; Entertainment</td>\n",
       "      <td>Sean Pratt</td>\n",
       "      <td>20.52</td>\n",
       "      <td>4.0</td>\n",
       "      <td>78.0</td>\n",
       "      <td>4/30/2019</td>\n",
       "      <td>Backstage Pass</td>\n",
       "      <td>278.0</td>\n",
       "    </tr>\n",
       "    <tr>\n",
       "      <th>1</th>\n",
       "      <td>B0052OM9XK</td>\n",
       "      <td>Simon Pegg</td>\n",
       "      <td>Arts &amp; Entertainment</td>\n",
       "      <td>Simon Pegg</td>\n",
       "      <td>24.50</td>\n",
       "      <td>4.5</td>\n",
       "      <td>872.0</td>\n",
       "      <td>6/9/2011</td>\n",
       "      <td>Nerd Do Well</td>\n",
       "      <td>290.0</td>\n",
       "    </tr>\n",
       "    <tr>\n",
       "      <th>2</th>\n",
       "      <td>B077XN66F8</td>\n",
       "      <td>Sidney Lumet</td>\n",
       "      <td>Arts &amp; Entertainment</td>\n",
       "      <td>Richard M. Davidson</td>\n",
       "      <td>20.99</td>\n",
       "      <td>5.0</td>\n",
       "      <td>90.0</td>\n",
       "      <td>12/5/2017</td>\n",
       "      <td>Making Movies</td>\n",
       "      <td>443.0</td>\n",
       "    </tr>\n",
       "    <tr>\n",
       "      <th>3</th>\n",
       "      <td>B00C75YMJ6</td>\n",
       "      <td>Phil Robertson</td>\n",
       "      <td>Arts &amp; Entertainment</td>\n",
       "      <td>Al Robertson, Phil Robertson</td>\n",
       "      <td>20.99</td>\n",
       "      <td>4.5</td>\n",
       "      <td>805.0</td>\n",
       "      <td>5/7/2013</td>\n",
       "      <td>Happy, Happy, Happy</td>\n",
       "      <td>297.0</td>\n",
       "    </tr>\n",
       "    <tr>\n",
       "      <th>4</th>\n",
       "      <td>B00DCD16GE</td>\n",
       "      <td>Robert Greenberg, The Great Courses</td>\n",
       "      <td>Arts &amp; Entertainment</td>\n",
       "      <td>Robert Greenberg</td>\n",
       "      <td>52.95</td>\n",
       "      <td>5.0</td>\n",
       "      <td>585.0</td>\n",
       "      <td>7/8/2013</td>\n",
       "      <td>How to Listen to and Understand Opera</td>\n",
       "      <td>1465.0</td>\n",
       "    </tr>\n",
       "  </tbody>\n",
       "</table>\n",
       "</div>"
      ],
      "text/plain": [
       "         ASIN                               Author              Category  \\\n",
       "0  0062823485                         Paul Stanley  Arts & Entertainment   \n",
       "1  B0052OM9XK                           Simon Pegg  Arts & Entertainment   \n",
       "2  B077XN66F8                         Sidney Lumet  Arts & Entertainment   \n",
       "3  B00C75YMJ6                       Phil Robertson  Arts & Entertainment   \n",
       "4  B00DCD16GE  Robert Greenberg, The Great Courses  Arts & Entertainment   \n",
       "\n",
       "                       Narrator  Price  Rating  RatingCount ReleaseDate  \\\n",
       "0                    Sean Pratt  20.52     4.0         78.0   4/30/2019   \n",
       "1                    Simon Pegg  24.50     4.5        872.0    6/9/2011   \n",
       "2           Richard M. Davidson  20.99     5.0         90.0   12/5/2017   \n",
       "3  Al Robertson, Phil Robertson  20.99     4.5        805.0    5/7/2013   \n",
       "4              Robert Greenberg  52.95     5.0        585.0    7/8/2013   \n",
       "\n",
       "                                   Title  Length  \n",
       "0                         Backstage Pass   278.0  \n",
       "1                           Nerd Do Well   290.0  \n",
       "2                          Making Movies   443.0  \n",
       "3                    Happy, Happy, Happy   297.0  \n",
       "4  How to Listen to and Understand Opera  1465.0  "
      ]
     },
     "execution_count": 7,
     "metadata": {},
     "output_type": "execute_result"
    }
   ],
   "source": [
    "df.rename(columns = {\n",
    "    'asin': 'ASIN',\n",
    "    'author': 'Author',\n",
    "    'category': 'Category',\n",
    "    'narrator': 'Narrator',\n",
    "    'price': 'Price',\n",
    "    'rating': 'Rating',\n",
    "    'rating_count': 'RatingCount',\n",
    "    'release_date': 'ReleaseDate',\n",
    "    'title': 'Title',\n",
    "    'Length in Minutes': 'Length'\n",
    "}, inplace = True)\n",
    "df.head()"
   ]
  },
  {
   "cell_type": "markdown",
   "metadata": {},
   "source": [
    "Create new variable *DaysReleased* to indicate newness of items."
   ]
  },
  {
   "cell_type": "code",
   "execution_count": 8,
   "metadata": {},
   "outputs": [],
   "source": [
    "df['ReleaseDate'] = pd.to_datetime(df['ReleaseDate'])\n",
    "DaysReleased = (df['ReleaseDate'] - df['ReleaseDate'].min())  / np.timedelta64(1, 'D')\n",
    "df['DaysReleased'] = DaysReleased.astype('int32')"
   ]
  },
  {
   "cell_type": "code",
   "execution_count": 9,
   "metadata": {
    "scrolled": true
   },
   "outputs": [
    {
     "data": {
      "text/html": [
       "<div>\n",
       "<style scoped>\n",
       "    .dataframe tbody tr th:only-of-type {\n",
       "        vertical-align: middle;\n",
       "    }\n",
       "\n",
       "    .dataframe tbody tr th {\n",
       "        vertical-align: top;\n",
       "    }\n",
       "\n",
       "    .dataframe thead th {\n",
       "        text-align: right;\n",
       "    }\n",
       "</style>\n",
       "<table border=\"1\" class=\"dataframe\">\n",
       "  <thead>\n",
       "    <tr style=\"text-align: right;\">\n",
       "      <th></th>\n",
       "      <th>ASIN</th>\n",
       "      <th>Author</th>\n",
       "      <th>Category</th>\n",
       "      <th>Narrator</th>\n",
       "      <th>Price</th>\n",
       "      <th>Rating</th>\n",
       "      <th>RatingCount</th>\n",
       "      <th>Title</th>\n",
       "      <th>Length</th>\n",
       "      <th>DaysReleased</th>\n",
       "    </tr>\n",
       "  </thead>\n",
       "  <tbody>\n",
       "    <tr>\n",
       "      <th>0</th>\n",
       "      <td>0062823485</td>\n",
       "      <td>Paul Stanley</td>\n",
       "      <td>Arts &amp; Entertainment</td>\n",
       "      <td>Sean Pratt</td>\n",
       "      <td>20.52</td>\n",
       "      <td>4.0</td>\n",
       "      <td>78.0</td>\n",
       "      <td>Backstage Pass</td>\n",
       "      <td>278.0</td>\n",
       "      <td>8521</td>\n",
       "    </tr>\n",
       "    <tr>\n",
       "      <th>1</th>\n",
       "      <td>B0052OM9XK</td>\n",
       "      <td>Simon Pegg</td>\n",
       "      <td>Arts &amp; Entertainment</td>\n",
       "      <td>Simon Pegg</td>\n",
       "      <td>24.50</td>\n",
       "      <td>4.5</td>\n",
       "      <td>872.0</td>\n",
       "      <td>Nerd Do Well</td>\n",
       "      <td>290.0</td>\n",
       "      <td>5639</td>\n",
       "    </tr>\n",
       "    <tr>\n",
       "      <th>2</th>\n",
       "      <td>B077XN66F8</td>\n",
       "      <td>Sidney Lumet</td>\n",
       "      <td>Arts &amp; Entertainment</td>\n",
       "      <td>Richard M. Davidson</td>\n",
       "      <td>20.99</td>\n",
       "      <td>5.0</td>\n",
       "      <td>90.0</td>\n",
       "      <td>Making Movies</td>\n",
       "      <td>443.0</td>\n",
       "      <td>8010</td>\n",
       "    </tr>\n",
       "    <tr>\n",
       "      <th>3</th>\n",
       "      <td>B00C75YMJ6</td>\n",
       "      <td>Phil Robertson</td>\n",
       "      <td>Arts &amp; Entertainment</td>\n",
       "      <td>Al Robertson, Phil Robertson</td>\n",
       "      <td>20.99</td>\n",
       "      <td>4.5</td>\n",
       "      <td>805.0</td>\n",
       "      <td>Happy, Happy, Happy</td>\n",
       "      <td>297.0</td>\n",
       "      <td>6337</td>\n",
       "    </tr>\n",
       "    <tr>\n",
       "      <th>4</th>\n",
       "      <td>B00DCD16GE</td>\n",
       "      <td>Robert Greenberg, The Great Courses</td>\n",
       "      <td>Arts &amp; Entertainment</td>\n",
       "      <td>Robert Greenberg</td>\n",
       "      <td>52.95</td>\n",
       "      <td>5.0</td>\n",
       "      <td>585.0</td>\n",
       "      <td>How to Listen to and Understand Opera</td>\n",
       "      <td>1465.0</td>\n",
       "      <td>6399</td>\n",
       "    </tr>\n",
       "  </tbody>\n",
       "</table>\n",
       "</div>"
      ],
      "text/plain": [
       "         ASIN                               Author              Category  \\\n",
       "0  0062823485                         Paul Stanley  Arts & Entertainment   \n",
       "1  B0052OM9XK                           Simon Pegg  Arts & Entertainment   \n",
       "2  B077XN66F8                         Sidney Lumet  Arts & Entertainment   \n",
       "3  B00C75YMJ6                       Phil Robertson  Arts & Entertainment   \n",
       "4  B00DCD16GE  Robert Greenberg, The Great Courses  Arts & Entertainment   \n",
       "\n",
       "                       Narrator  Price  Rating  RatingCount  \\\n",
       "0                    Sean Pratt  20.52     4.0         78.0   \n",
       "1                    Simon Pegg  24.50     4.5        872.0   \n",
       "2           Richard M. Davidson  20.99     5.0         90.0   \n",
       "3  Al Robertson, Phil Robertson  20.99     4.5        805.0   \n",
       "4              Robert Greenberg  52.95     5.0        585.0   \n",
       "\n",
       "                                   Title  Length  DaysReleased  \n",
       "0                         Backstage Pass   278.0          8521  \n",
       "1                           Nerd Do Well   290.0          5639  \n",
       "2                          Making Movies   443.0          8010  \n",
       "3                    Happy, Happy, Happy   297.0          6337  \n",
       "4  How to Listen to and Understand Opera  1465.0          6399  "
      ]
     },
     "execution_count": 9,
     "metadata": {},
     "output_type": "execute_result"
    }
   ],
   "source": [
    "df.drop('ReleaseDate', axis = 1, inplace = True)\n",
    "df.head()"
   ]
  },
  {
   "cell_type": "markdown",
   "metadata": {},
   "source": [
    "Items with Rating 5.0 is labeled as Popular for model training later."
   ]
  },
  {
   "cell_type": "code",
   "execution_count": 10,
   "metadata": {},
   "outputs": [
    {
     "data": {
      "text/html": [
       "<div>\n",
       "<style scoped>\n",
       "    .dataframe tbody tr th:only-of-type {\n",
       "        vertical-align: middle;\n",
       "    }\n",
       "\n",
       "    .dataframe tbody tr th {\n",
       "        vertical-align: top;\n",
       "    }\n",
       "\n",
       "    .dataframe thead th {\n",
       "        text-align: right;\n",
       "    }\n",
       "</style>\n",
       "<table border=\"1\" class=\"dataframe\">\n",
       "  <thead>\n",
       "    <tr style=\"text-align: right;\">\n",
       "      <th></th>\n",
       "      <th>ASIN</th>\n",
       "      <th>Author</th>\n",
       "      <th>Category</th>\n",
       "      <th>Narrator</th>\n",
       "      <th>Price</th>\n",
       "      <th>Rating</th>\n",
       "      <th>RatingCount</th>\n",
       "      <th>Title</th>\n",
       "      <th>Length</th>\n",
       "      <th>DaysReleased</th>\n",
       "      <th>Popular</th>\n",
       "    </tr>\n",
       "  </thead>\n",
       "  <tbody>\n",
       "    <tr>\n",
       "      <th>0</th>\n",
       "      <td>0062823485</td>\n",
       "      <td>Paul Stanley</td>\n",
       "      <td>Arts &amp; Entertainment</td>\n",
       "      <td>Sean Pratt</td>\n",
       "      <td>20.52</td>\n",
       "      <td>4.0</td>\n",
       "      <td>78.0</td>\n",
       "      <td>Backstage Pass</td>\n",
       "      <td>278.0</td>\n",
       "      <td>8521</td>\n",
       "      <td>0</td>\n",
       "    </tr>\n",
       "    <tr>\n",
       "      <th>1</th>\n",
       "      <td>B0052OM9XK</td>\n",
       "      <td>Simon Pegg</td>\n",
       "      <td>Arts &amp; Entertainment</td>\n",
       "      <td>Simon Pegg</td>\n",
       "      <td>24.50</td>\n",
       "      <td>4.5</td>\n",
       "      <td>872.0</td>\n",
       "      <td>Nerd Do Well</td>\n",
       "      <td>290.0</td>\n",
       "      <td>5639</td>\n",
       "      <td>0</td>\n",
       "    </tr>\n",
       "    <tr>\n",
       "      <th>2</th>\n",
       "      <td>B077XN66F8</td>\n",
       "      <td>Sidney Lumet</td>\n",
       "      <td>Arts &amp; Entertainment</td>\n",
       "      <td>Richard M. Davidson</td>\n",
       "      <td>20.99</td>\n",
       "      <td>5.0</td>\n",
       "      <td>90.0</td>\n",
       "      <td>Making Movies</td>\n",
       "      <td>443.0</td>\n",
       "      <td>8010</td>\n",
       "      <td>1</td>\n",
       "    </tr>\n",
       "    <tr>\n",
       "      <th>3</th>\n",
       "      <td>B00C75YMJ6</td>\n",
       "      <td>Phil Robertson</td>\n",
       "      <td>Arts &amp; Entertainment</td>\n",
       "      <td>Al Robertson, Phil Robertson</td>\n",
       "      <td>20.99</td>\n",
       "      <td>4.5</td>\n",
       "      <td>805.0</td>\n",
       "      <td>Happy, Happy, Happy</td>\n",
       "      <td>297.0</td>\n",
       "      <td>6337</td>\n",
       "      <td>0</td>\n",
       "    </tr>\n",
       "    <tr>\n",
       "      <th>4</th>\n",
       "      <td>B00DCD16GE</td>\n",
       "      <td>Robert Greenberg, The Great Courses</td>\n",
       "      <td>Arts &amp; Entertainment</td>\n",
       "      <td>Robert Greenberg</td>\n",
       "      <td>52.95</td>\n",
       "      <td>5.0</td>\n",
       "      <td>585.0</td>\n",
       "      <td>How to Listen to and Understand Opera</td>\n",
       "      <td>1465.0</td>\n",
       "      <td>6399</td>\n",
       "      <td>1</td>\n",
       "    </tr>\n",
       "  </tbody>\n",
       "</table>\n",
       "</div>"
      ],
      "text/plain": [
       "         ASIN                               Author              Category  \\\n",
       "0  0062823485                         Paul Stanley  Arts & Entertainment   \n",
       "1  B0052OM9XK                           Simon Pegg  Arts & Entertainment   \n",
       "2  B077XN66F8                         Sidney Lumet  Arts & Entertainment   \n",
       "3  B00C75YMJ6                       Phil Robertson  Arts & Entertainment   \n",
       "4  B00DCD16GE  Robert Greenberg, The Great Courses  Arts & Entertainment   \n",
       "\n",
       "                       Narrator  Price  Rating  RatingCount  \\\n",
       "0                    Sean Pratt  20.52     4.0         78.0   \n",
       "1                    Simon Pegg  24.50     4.5        872.0   \n",
       "2           Richard M. Davidson  20.99     5.0         90.0   \n",
       "3  Al Robertson, Phil Robertson  20.99     4.5        805.0   \n",
       "4              Robert Greenberg  52.95     5.0        585.0   \n",
       "\n",
       "                                   Title  Length  DaysReleased  Popular  \n",
       "0                         Backstage Pass   278.0          8521        0  \n",
       "1                           Nerd Do Well   290.0          5639        0  \n",
       "2                          Making Movies   443.0          8010        1  \n",
       "3                    Happy, Happy, Happy   297.0          6337        0  \n",
       "4  How to Listen to and Understand Opera  1465.0          6399        1  "
      ]
     },
     "execution_count": 10,
     "metadata": {},
     "output_type": "execute_result"
    }
   ],
   "source": [
    "# threshold = df['Rating'].quantile(0.75) # Option to use threshold at 75% percentile\n",
    "df['Popular'] = np.where(df['Rating'] == 5, 1, 0)\n",
    "df.head()"
   ]
  },
  {
   "cell_type": "code",
   "execution_count": 11,
   "metadata": {},
   "outputs": [
    {
     "data": {
      "text/plain": [
       "0    292539\n",
       "1     62570\n",
       "Name: Popular, dtype: int64"
      ]
     },
     "execution_count": 11,
     "metadata": {},
     "output_type": "execute_result"
    }
   ],
   "source": [
    "df['Popular'].value_counts()"
   ]
  },
  {
   "cell_type": "markdown",
   "metadata": {},
   "source": [
    "Check and correct the data types."
   ]
  },
  {
   "cell_type": "code",
   "execution_count": 12,
   "metadata": {},
   "outputs": [
    {
     "data": {
      "text/plain": [
       "ASIN             object\n",
       "Author           object\n",
       "Category         object\n",
       "Narrator         object\n",
       "Price           float64\n",
       "Rating          float64\n",
       "RatingCount     float64\n",
       "Title            object\n",
       "Length          float64\n",
       "DaysReleased      int32\n",
       "Popular           int32\n",
       "dtype: object"
      ]
     },
     "execution_count": 12,
     "metadata": {},
     "output_type": "execute_result"
    }
   ],
   "source": [
    "df.dtypes"
   ]
  },
  {
   "cell_type": "code",
   "execution_count": 13,
   "metadata": {},
   "outputs": [],
   "source": [
    "df['Category'] = df['Category'].astype('category')\n",
    "df['RatingCount'] = df['RatingCount'].astype('int32')\n",
    "df['Length'] = df['Length'].astype('int32')"
   ]
  },
  {
   "cell_type": "code",
   "execution_count": 14,
   "metadata": {},
   "outputs": [
    {
     "data": {
      "text/plain": [
       "ASIN              object\n",
       "Author            object\n",
       "Category        category\n",
       "Narrator          object\n",
       "Price            float64\n",
       "Rating           float64\n",
       "RatingCount        int32\n",
       "Title             object\n",
       "Length             int32\n",
       "DaysReleased       int32\n",
       "Popular            int32\n",
       "dtype: object"
      ]
     },
     "execution_count": 14,
     "metadata": {},
     "output_type": "execute_result"
    }
   ],
   "source": [
    "df.dtypes"
   ]
  },
  {
   "cell_type": "markdown",
   "metadata": {},
   "source": [
    "Check for missing values."
   ]
  },
  {
   "cell_type": "code",
   "execution_count": 15,
   "metadata": {},
   "outputs": [
    {
     "data": {
      "text/plain": [
       "ASIN            0\n",
       "Author          0\n",
       "Category        0\n",
       "Narrator        0\n",
       "Price           0\n",
       "Rating          0\n",
       "RatingCount     0\n",
       "Title           0\n",
       "Length          0\n",
       "DaysReleased    0\n",
       "Popular         0\n",
       "dtype: int64"
      ]
     },
     "execution_count": 15,
     "metadata": {},
     "output_type": "execute_result"
    }
   ],
   "source": [
    "df.isnull().sum()"
   ]
  },
  {
   "cell_type": "code",
   "execution_count": 16,
   "metadata": {},
   "outputs": [],
   "source": [
    "df.to_csv('audible_cleaned.csv', index = False)"
   ]
  },
  {
   "cell_type": "markdown",
   "metadata": {},
   "source": [
    "## Explore Data"
   ]
  },
  {
   "cell_type": "markdown",
   "metadata": {},
   "source": [
    "Make a copy of the dataset for exploration."
   ]
  },
  {
   "cell_type": "code",
   "execution_count": 17,
   "metadata": {},
   "outputs": [],
   "source": [
    "df_explore = df.copy()"
   ]
  },
  {
   "cell_type": "markdown",
   "metadata": {},
   "source": [
    "Histograms are used to explore the spread of popular items across ranges of other variables."
   ]
  },
  {
   "cell_type": "code",
   "execution_count": 18,
   "metadata": {},
   "outputs": [
    {
     "data": {
      "text/plain": [
       "<matplotlib.axes._subplots.AxesSubplot at 0x1fe668d0310>"
      ]
     },
     "execution_count": 18,
     "metadata": {},
     "output_type": "execute_result"
    },
    {
     "data": {
      "image/png": "[encoded data removed]",
      "text/plain": [
       "<Figure size 432x288 with 1 Axes>"
      ]
     },
     "metadata": {
      "needs_background": "light"
     },
     "output_type": "display_data"
    }
   ],
   "source": [
    "sns.histplot(data = df_explore, x = 'Price', hue = 'Popular', kde = True)"
   ]
  },
  {
   "cell_type": "code",
   "execution_count": 19,
   "metadata": {
    "scrolled": true
   },
   "outputs": [
    {
     "data": {
      "text/plain": [
       "<matplotlib.axes._subplots.AxesSubplot at 0x1fe752b68b0>"
      ]
     },
     "execution_count": 19,
     "metadata": {},
     "output_type": "execute_result"
    },
    {
     "data": {
      "image/png": "[encoded data removed]",
      "text/plain": [
       "<Figure size 432x288 with 1 Axes>"
      ]
     },
     "metadata": {
      "needs_background": "light"
     },
     "output_type": "display_data"
    }
   ],
   "source": [
    "sns.histplot(data = df_explore, x = 'Rating', hue = 'Popular')"
   ]
  },
  {
   "cell_type": "code",
   "execution_count": 20,
   "metadata": {},
   "outputs": [
    {
     "data": {
      "text/plain": [
       "<matplotlib.axes._subplots.AxesSubplot at 0x1fe7e87be20>"
      ]
     },
     "execution_count": 20,
     "metadata": {},
     "output_type": "execute_result"
    },
    {
     "data": {
      "image/png": "[encoded data removed]",
      "text/plain": [
       "<Figure size 432x288 with 1 Axes>"
      ]
     },
     "metadata": {
      "needs_background": "light"
     },
     "output_type": "display_data"
    }
   ],
   "source": [
    "sns.histplot(data = df_explore, x = 'RatingCount', hue = 'Popular', kde = True, bins = 30)"
   ]
  },
  {
   "cell_type": "markdown",
   "metadata": {},
   "source": [
    "RatingCount is found to be highly skewed. So it is log-transformed in a new variable RatingCountLog."
   ]
  },
  {
   "cell_type": "code",
   "execution_count": 21,
   "metadata": {
    "scrolled": true
   },
   "outputs": [
    {
     "data": {
      "text/plain": [
       "<matplotlib.axes._subplots.AxesSubplot at 0x1fe7cf257c0>"
      ]
     },
     "execution_count": 21,
     "metadata": {},
     "output_type": "execute_result"
    },
    {
     "data": {
      "image/png": "[encoded data removed]",
      "text/plain": [
       "<Figure size 432x288 with 1 Axes>"
      ]
     },
     "metadata": {
      "needs_background": "light"
     },
     "output_type": "display_data"
    }
   ],
   "source": [
    "plt.xscale('log')\n",
    "sns.histplot(data = df_explore, x = 'RatingCount', hue = 'Popular', kde = True, bins = 30)"
   ]
  },
  {
   "cell_type": "code",
   "execution_count": 22,
   "metadata": {
    "scrolled": true
   },
   "outputs": [
    {
     "data": {
      "text/html": [
       "<div>\n",
       "<style scoped>\n",
       "    .dataframe tbody tr th:only-of-type {\n",
       "        vertical-align: middle;\n",
       "    }\n",
       "\n",
       "    .dataframe tbody tr th {\n",
       "        vertical-align: top;\n",
       "    }\n",
       "\n",
       "    .dataframe thead th {\n",
       "        text-align: right;\n",
       "    }\n",
       "</style>\n",
       "<table border=\"1\" class=\"dataframe\">\n",
       "  <thead>\n",
       "    <tr style=\"text-align: right;\">\n",
       "      <th></th>\n",
       "      <th>ASIN</th>\n",
       "      <th>Author</th>\n",
       "      <th>Category</th>\n",
       "      <th>Narrator</th>\n",
       "      <th>Price</th>\n",
       "      <th>Rating</th>\n",
       "      <th>RatingCount</th>\n",
       "      <th>Title</th>\n",
       "      <th>Length</th>\n",
       "      <th>DaysReleased</th>\n",
       "      <th>Popular</th>\n",
       "      <th>RatingCountLog</th>\n",
       "    </tr>\n",
       "  </thead>\n",
       "  <tbody>\n",
       "    <tr>\n",
       "      <th>0</th>\n",
       "      <td>0062823485</td>\n",
       "      <td>Paul Stanley</td>\n",
       "      <td>Arts &amp; Entertainment</td>\n",
       "      <td>Sean Pratt</td>\n",
       "      <td>20.52</td>\n",
       "      <td>4.0</td>\n",
       "      <td>78</td>\n",
       "      <td>Backstage Pass</td>\n",
       "      <td>278</td>\n",
       "      <td>8521</td>\n",
       "      <td>0</td>\n",
       "      <td>1.892095</td>\n",
       "    </tr>\n",
       "    <tr>\n",
       "      <th>1</th>\n",
       "      <td>B0052OM9XK</td>\n",
       "      <td>Simon Pegg</td>\n",
       "      <td>Arts &amp; Entertainment</td>\n",
       "      <td>Simon Pegg</td>\n",
       "      <td>24.50</td>\n",
       "      <td>4.5</td>\n",
       "      <td>872</td>\n",
       "      <td>Nerd Do Well</td>\n",
       "      <td>290</td>\n",
       "      <td>5639</td>\n",
       "      <td>0</td>\n",
       "      <td>2.940516</td>\n",
       "    </tr>\n",
       "    <tr>\n",
       "      <th>2</th>\n",
       "      <td>B077XN66F8</td>\n",
       "      <td>Sidney Lumet</td>\n",
       "      <td>Arts &amp; Entertainment</td>\n",
       "      <td>Richard M. Davidson</td>\n",
       "      <td>20.99</td>\n",
       "      <td>5.0</td>\n",
       "      <td>90</td>\n",
       "      <td>Making Movies</td>\n",
       "      <td>443</td>\n",
       "      <td>8010</td>\n",
       "      <td>1</td>\n",
       "      <td>1.954243</td>\n",
       "    </tr>\n",
       "    <tr>\n",
       "      <th>3</th>\n",
       "      <td>B00C75YMJ6</td>\n",
       "      <td>Phil Robertson</td>\n",
       "      <td>Arts &amp; Entertainment</td>\n",
       "      <td>Al Robertson, Phil Robertson</td>\n",
       "      <td>20.99</td>\n",
       "      <td>4.5</td>\n",
       "      <td>805</td>\n",
       "      <td>Happy, Happy, Happy</td>\n",
       "      <td>297</td>\n",
       "      <td>6337</td>\n",
       "      <td>0</td>\n",
       "      <td>2.905796</td>\n",
       "    </tr>\n",
       "    <tr>\n",
       "      <th>4</th>\n",
       "      <td>B00DCD16GE</td>\n",
       "      <td>Robert Greenberg, The Great Courses</td>\n",
       "      <td>Arts &amp; Entertainment</td>\n",
       "      <td>Robert Greenberg</td>\n",
       "      <td>52.95</td>\n",
       "      <td>5.0</td>\n",
       "      <td>585</td>\n",
       "      <td>How to Listen to and Understand Opera</td>\n",
       "      <td>1465</td>\n",
       "      <td>6399</td>\n",
       "      <td>1</td>\n",
       "      <td>2.767156</td>\n",
       "    </tr>\n",
       "  </tbody>\n",
       "</table>\n",
       "</div>"
      ],
      "text/plain": [
       "         ASIN                               Author              Category  \\\n",
       "0  0062823485                         Paul Stanley  Arts & Entertainment   \n",
       "1  B0052OM9XK                           Simon Pegg  Arts & Entertainment   \n",
       "2  B077XN66F8                         Sidney Lumet  Arts & Entertainment   \n",
       "3  B00C75YMJ6                       Phil Robertson  Arts & Entertainment   \n",
       "4  B00DCD16GE  Robert Greenberg, The Great Courses  Arts & Entertainment   \n",
       "\n",
       "                       Narrator  Price  Rating  RatingCount  \\\n",
       "0                    Sean Pratt  20.52     4.0           78   \n",
       "1                    Simon Pegg  24.50     4.5          872   \n",
       "2           Richard M. Davidson  20.99     5.0           90   \n",
       "3  Al Robertson, Phil Robertson  20.99     4.5          805   \n",
       "4              Robert Greenberg  52.95     5.0          585   \n",
       "\n",
       "                                   Title  Length  DaysReleased  Popular  \\\n",
       "0                         Backstage Pass     278          8521        0   \n",
       "1                           Nerd Do Well     290          5639        0   \n",
       "2                          Making Movies     443          8010        1   \n",
       "3                    Happy, Happy, Happy     297          6337        0   \n",
       "4  How to Listen to and Understand Opera    1465          6399        1   \n",
       "\n",
       "   RatingCountLog  \n",
       "0        1.892095  \n",
       "1        2.940516  \n",
       "2        1.954243  \n",
       "3        2.905796  \n",
       "4        2.767156  "
      ]
     },
     "execution_count": 22,
     "metadata": {},
     "output_type": "execute_result"
    }
   ],
   "source": [
    "df_explore['RatingCountLog'] = np.log10(df_explore['RatingCount'])\n",
    "df_explore.head()"
   ]
  },
  {
   "cell_type": "code",
   "execution_count": 23,
   "metadata": {
    "scrolled": true
   },
   "outputs": [
    {
     "data": {
      "text/plain": [
       "<matplotlib.axes._subplots.AxesSubplot at 0x1fe65858760>"
      ]
     },
     "execution_count": 23,
     "metadata": {},
     "output_type": "execute_result"
    },
    {
     "data": {
      "image/png": "[encoded data removed]",
      "text/plain": [
       "<Figure size 432x288 with 1 Axes>"
      ]
     },
     "metadata": {
      "needs_background": "light"
     },
     "output_type": "display_data"
    }
   ],
   "source": [
    "sns.histplot(data = df_explore, x = 'Length', hue = 'Popular', kde = True)"
   ]
  },
  {
   "cell_type": "markdown",
   "metadata": {},
   "source": [
    "Length is found to be highly skewed. So it is log-transformed in a new variable LengthLog."
   ]
  },
  {
   "cell_type": "code",
   "execution_count": 24,
   "metadata": {},
   "outputs": [
    {
     "data": {
      "text/plain": [
       "<matplotlib.axes._subplots.AxesSubplot at 0x1fe0123ce20>"
      ]
     },
     "execution_count": 24,
     "metadata": {},
     "output_type": "execute_result"
    },
    {
     "data": {
      "image/png": "[encoded data removed]",
      "text/plain": [
       "<Figure size 432x288 with 1 Axes>"
      ]
     },
     "metadata": {
      "needs_background": "light"
     },
     "output_type": "display_data"
    }
   ],
   "source": [
    "plt.xscale('log')\n",
    "sns.histplot(data = df_explore, x = 'Length', hue = 'Popular', kde = True)"
   ]
  },
  {
   "cell_type": "code",
   "execution_count": 25,
   "metadata": {},
   "outputs": [
    {
     "data": {
      "text/html": [
       "<div>\n",
       "<style scoped>\n",
       "    .dataframe tbody tr th:only-of-type {\n",
       "        vertical-align: middle;\n",
       "    }\n",
       "\n",
       "    .dataframe tbody tr th {\n",
       "        vertical-align: top;\n",
       "    }\n",
       "\n",
       "    .dataframe thead th {\n",
       "        text-align: right;\n",
       "    }\n",
       "</style>\n",
       "<table border=\"1\" class=\"dataframe\">\n",
       "  <thead>\n",
       "    <tr style=\"text-align: right;\">\n",
       "      <th></th>\n",
       "      <th>ASIN</th>\n",
       "      <th>Author</th>\n",
       "      <th>Category</th>\n",
       "      <th>Narrator</th>\n",
       "      <th>Price</th>\n",
       "      <th>Rating</th>\n",
       "      <th>RatingCount</th>\n",
       "      <th>Title</th>\n",
       "      <th>Length</th>\n",
       "      <th>DaysReleased</th>\n",
       "      <th>Popular</th>\n",
       "      <th>RatingCountLog</th>\n",
       "      <th>LengthLog</th>\n",
       "    </tr>\n",
       "  </thead>\n",
       "  <tbody>\n",
       "    <tr>\n",
       "      <th>0</th>\n",
       "      <td>0062823485</td>\n",
       "      <td>Paul Stanley</td>\n",
       "      <td>Arts &amp; Entertainment</td>\n",
       "      <td>Sean Pratt</td>\n",
       "      <td>20.52</td>\n",
       "      <td>4.0</td>\n",
       "      <td>78</td>\n",
       "      <td>Backstage Pass</td>\n",
       "      <td>278</td>\n",
       "      <td>8521</td>\n",
       "      <td>0</td>\n",
       "      <td>1.892095</td>\n",
       "      <td>2.444045</td>\n",
       "    </tr>\n",
       "    <tr>\n",
       "      <th>1</th>\n",
       "      <td>B0052OM9XK</td>\n",
       "      <td>Simon Pegg</td>\n",
       "      <td>Arts &amp; Entertainment</td>\n",
       "      <td>Simon Pegg</td>\n",
       "      <td>24.50</td>\n",
       "      <td>4.5</td>\n",
       "      <td>872</td>\n",
       "      <td>Nerd Do Well</td>\n",
       "      <td>290</td>\n",
       "      <td>5639</td>\n",
       "      <td>0</td>\n",
       "      <td>2.940516</td>\n",
       "      <td>2.462398</td>\n",
       "    </tr>\n",
       "    <tr>\n",
       "      <th>2</th>\n",
       "      <td>B077XN66F8</td>\n",
       "      <td>Sidney Lumet</td>\n",
       "      <td>Arts &amp; Entertainment</td>\n",
       "      <td>Richard M. Davidson</td>\n",
       "      <td>20.99</td>\n",
       "      <td>5.0</td>\n",
       "      <td>90</td>\n",
       "      <td>Making Movies</td>\n",
       "      <td>443</td>\n",
       "      <td>8010</td>\n",
       "      <td>1</td>\n",
       "      <td>1.954243</td>\n",
       "      <td>2.646404</td>\n",
       "    </tr>\n",
       "    <tr>\n",
       "      <th>3</th>\n",
       "      <td>B00C75YMJ6</td>\n",
       "      <td>Phil Robertson</td>\n",
       "      <td>Arts &amp; Entertainment</td>\n",
       "      <td>Al Robertson, Phil Robertson</td>\n",
       "      <td>20.99</td>\n",
       "      <td>4.5</td>\n",
       "      <td>805</td>\n",
       "      <td>Happy, Happy, Happy</td>\n",
       "      <td>297</td>\n",
       "      <td>6337</td>\n",
       "      <td>0</td>\n",
       "      <td>2.905796</td>\n",
       "      <td>2.472756</td>\n",
       "    </tr>\n",
       "    <tr>\n",
       "      <th>4</th>\n",
       "      <td>B00DCD16GE</td>\n",
       "      <td>Robert Greenberg, The Great Courses</td>\n",
       "      <td>Arts &amp; Entertainment</td>\n",
       "      <td>Robert Greenberg</td>\n",
       "      <td>52.95</td>\n",
       "      <td>5.0</td>\n",
       "      <td>585</td>\n",
       "      <td>How to Listen to and Understand Opera</td>\n",
       "      <td>1465</td>\n",
       "      <td>6399</td>\n",
       "      <td>1</td>\n",
       "      <td>2.767156</td>\n",
       "      <td>3.165838</td>\n",
       "    </tr>\n",
       "  </tbody>\n",
       "</table>\n",
       "</div>"
      ],
      "text/plain": [
       "         ASIN                               Author              Category  \\\n",
       "0  0062823485                         Paul Stanley  Arts & Entertainment   \n",
       "1  B0052OM9XK                           Simon Pegg  Arts & Entertainment   \n",
       "2  B077XN66F8                         Sidney Lumet  Arts & Entertainment   \n",
       "3  B00C75YMJ6                       Phil Robertson  Arts & Entertainment   \n",
       "4  B00DCD16GE  Robert Greenberg, The Great Courses  Arts & Entertainment   \n",
       "\n",
       "                       Narrator  Price  Rating  RatingCount  \\\n",
       "0                    Sean Pratt  20.52     4.0           78   \n",
       "1                    Simon Pegg  24.50     4.5          872   \n",
       "2           Richard M. Davidson  20.99     5.0           90   \n",
       "3  Al Robertson, Phil Robertson  20.99     4.5          805   \n",
       "4              Robert Greenberg  52.95     5.0          585   \n",
       "\n",
       "                                   Title  Length  DaysReleased  Popular  \\\n",
       "0                         Backstage Pass     278          8521        0   \n",
       "1                           Nerd Do Well     290          5639        0   \n",
       "2                          Making Movies     443          8010        1   \n",
       "3                    Happy, Happy, Happy     297          6337        0   \n",
       "4  How to Listen to and Understand Opera    1465          6399        1   \n",
       "\n",
       "   RatingCountLog  LengthLog  \n",
       "0        1.892095   2.444045  \n",
       "1        2.940516   2.462398  \n",
       "2        1.954243   2.646404  \n",
       "3        2.905796   2.472756  \n",
       "4        2.767156   3.165838  "
      ]
     },
     "execution_count": 25,
     "metadata": {},
     "output_type": "execute_result"
    }
   ],
   "source": [
    "df_explore['LengthLog'] = np.log10(df_explore['Length'])\n",
    "df_explore.head()"
   ]
  },
  {
   "cell_type": "code",
   "execution_count": 26,
   "metadata": {
    "scrolled": true
   },
   "outputs": [
    {
     "data": {
      "text/plain": [
       "<matplotlib.axes._subplots.AxesSubplot at 0x1fe01116700>"
      ]
     },
     "execution_count": 26,
     "metadata": {},
     "output_type": "execute_result"
    },
    {
     "data": {
      "image/png": "[encoded data removed]",
      "text/plain": [
       "<Figure size 432x288 with 1 Axes>"
      ]
     },
     "metadata": {
      "needs_background": "light"
     },
     "output_type": "display_data"
    }
   ],
   "source": [
    "sns.histplot(data = df_explore, x = 'DaysReleased', hue = 'Popular', kde = True)"
   ]
  },
  {
   "cell_type": "markdown",
   "metadata": {},
   "source": [
    "DaysReleased is found to be highly skewed. So it is log-transformed in a new variable DaysReleasedLog."
   ]
  },
  {
   "cell_type": "code",
   "execution_count": 27,
   "metadata": {},
   "outputs": [
    {
     "data": {
      "text/plain": [
       "<matplotlib.axes._subplots.AxesSubplot at 0x1fe002de4c0>"
      ]
     },
     "execution_count": 27,
     "metadata": {},
     "output_type": "execute_result"
    },
    {
     "data": {
      "image/png": "[encoded data removed]",
      "text/plain": [
       "<Figure size 432x288 with 1 Axes>"
      ]
     },
     "metadata": {
      "needs_background": "light"
     },
     "output_type": "display_data"
    }
   ],
   "source": [
    "df_explore['DaysReleasedLog'] = np.log10(df['DaysReleased'].max() + 1 - df['DaysReleased'])\n",
    "sns.histplot(data = df_explore, x = 'DaysReleasedLog', hue = 'Popular', kde = True)"
   ]
  },
  {
   "cell_type": "markdown",
   "metadata": {},
   "source": [
    "Scatter plots are used to discover relationship between the Popular variable and other variables."
   ]
  },
  {
   "cell_type": "code",
   "execution_count": 28,
   "metadata": {},
   "outputs": [
    {
     "data": {
      "text/plain": [
       "<matplotlib.axes._subplots.AxesSubplot at 0x1fe02c64970>"
      ]
     },
     "execution_count": 28,
     "metadata": {},
     "output_type": "execute_result"
    },
    {
     "data": {
      "image/png": "[encoded data removed]",
      "text/plain": [
       "<Figure size 432x288 with 1 Axes>"
      ]
     },
     "metadata": {
      "needs_background": "light"
     },
     "output_type": "display_data"
    }
   ],
   "source": [
    "sns.scatterplot(data = df_explore, x = 'Price', y = 'Popular')"
   ]
  },
  {
   "cell_type": "code",
   "execution_count": 29,
   "metadata": {},
   "outputs": [
    {
     "data": {
      "text/plain": [
       "<matplotlib.axes._subplots.AxesSubplot at 0x1fe02cb46d0>"
      ]
     },
     "execution_count": 29,
     "metadata": {},
     "output_type": "execute_result"
    },
    {
     "data": {
      "image/png": "[encoded data removed]",
      "text/plain": [
       "<Figure size 432x288 with 1 Axes>"
      ]
     },
     "metadata": {
      "needs_background": "light"
     },
     "output_type": "display_data"
    }
   ],
   "source": [
    "sns.scatterplot(data = df_explore, x = 'Rating', y = 'Popular')"
   ]
  },
  {
   "cell_type": "code",
   "execution_count": 30,
   "metadata": {},
   "outputs": [
    {
     "data": {
      "text/plain": [
       "<matplotlib.axes._subplots.AxesSubplot at 0x1fe044ffb50>"
      ]
     },
     "execution_count": 30,
     "metadata": {},
     "output_type": "execute_result"
    },
    {
     "data": {
      "image/png": "[encoded data removed]",
      "text/plain": [
       "<Figure size 432x288 with 1 Axes>"
      ]
     },
     "metadata": {
      "needs_background": "light"
     },
     "output_type": "display_data"
    }
   ],
   "source": [
    "sns.scatterplot(data = df_explore, x = 'RatingCountLog', y = 'Popular')"
   ]
  },
  {
   "cell_type": "code",
   "execution_count": 31,
   "metadata": {},
   "outputs": [
    {
     "data": {
      "text/plain": [
       "<matplotlib.axes._subplots.AxesSubplot at 0x1fe02d47d00>"
      ]
     },
     "execution_count": 31,
     "metadata": {},
     "output_type": "execute_result"
    },
    {
     "data": {
      "image/png": "[encoded data removed]",
      "text/plain": [
       "<Figure size 432x288 with 1 Axes>"
      ]
     },
     "metadata": {
      "needs_background": "light"
     },
     "output_type": "display_data"
    }
   ],
   "source": [
    "sns.scatterplot(data = df_explore, x = 'Length', y = 'Popular')"
   ]
  },
  {
   "cell_type": "code",
   "execution_count": 32,
   "metadata": {},
   "outputs": [
    {
     "data": {
      "text/plain": [
       "<matplotlib.axes._subplots.AxesSubplot at 0x1fe034678b0>"
      ]
     },
     "execution_count": 32,
     "metadata": {},
     "output_type": "execute_result"
    },
    {
     "data": {
      "image/png": "[encoded data removed]",
      "text/plain": [
       "<Figure size 432x288 with 1 Axes>"
      ]
     },
     "metadata": {
      "needs_background": "light"
     },
     "output_type": "display_data"
    }
   ],
   "source": [
    "sns.scatterplot(data = df_explore, x = 'DaysReleasedLog', y = 'Popular')"
   ]
  },
  {
   "cell_type": "code",
   "execution_count": 33,
   "metadata": {
    "scrolled": true
   },
   "outputs": [
    {
     "data": {
      "text/plain": [
       "<matplotlib.axes._subplots.AxesSubplot at 0x1fe034bfee0>"
      ]
     },
     "execution_count": 33,
     "metadata": {},
     "output_type": "execute_result"
    },
    {
     "data": {
      "image/png": "[encoded data removed]",
      "text/plain": [
       "<Figure size 432x288 with 1 Axes>"
      ]
     },
     "metadata": {
      "needs_background": "light"
     },
     "output_type": "display_data"
    }
   ],
   "source": [
    "sns.scatterplot(data = df_explore, x = 'Price', y = 'Rating', hue = 'Popular')"
   ]
  },
  {
   "cell_type": "code",
   "execution_count": 34,
   "metadata": {},
   "outputs": [
    {
     "data": {
      "text/plain": [
       "<matplotlib.axes._subplots.AxesSubplot at 0x1fe02d2af40>"
      ]
     },
     "execution_count": 34,
     "metadata": {},
     "output_type": "execute_result"
    },
    {
     "data": {
      "image/png": "[encoded data removed]",
      "text/plain": [
       "<Figure size 432x288 with 1 Axes>"
      ]
     },
     "metadata": {
      "needs_background": "light"
     },
     "output_type": "display_data"
    }
   ],
   "source": [
    "sns.scatterplot(data = df_explore, x = 'Price', y = 'RatingCount', hue = 'Popular')"
   ]
  },
  {
   "cell_type": "code",
   "execution_count": 35,
   "metadata": {},
   "outputs": [
    {
     "data": {
      "text/plain": [
       "<matplotlib.axes._subplots.AxesSubplot at 0x1fe035fe3a0>"
      ]
     },
     "execution_count": 35,
     "metadata": {},
     "output_type": "execute_result"
    },
    {
     "data": {
      "image/png": "[encoded data removed]",
      "text/plain": [
       "<Figure size 432x288 with 1 Axes>"
      ]
     },
     "metadata": {
      "needs_background": "light"
     },
     "output_type": "display_data"
    }
   ],
   "source": [
    "sns.scatterplot(data = df_explore, x = 'Price', y = 'LengthLog', hue = 'Popular')"
   ]
  },
  {
   "cell_type": "code",
   "execution_count": 36,
   "metadata": {
    "scrolled": true
   },
   "outputs": [
    {
     "data": {
      "text/plain": [
       "<matplotlib.axes._subplots.AxesSubplot at 0x1fe03659fd0>"
      ]
     },
     "execution_count": 36,
     "metadata": {},
     "output_type": "execute_result"
    },
    {
     "data": {
      "image/png": "[encoded data removed]",
      "text/plain": [
       "<Figure size 432x288 with 1 Axes>"
      ]
     },
     "metadata": {
      "needs_background": "light"
     },
     "output_type": "display_data"
    }
   ],
   "source": [
    "sns.scatterplot(data = df_explore, x = 'Price', y = 'DaysReleasedLog', hue = 'Popular')"
   ]
  },
  {
   "cell_type": "markdown",
   "metadata": {},
   "source": [
    "Bar plot is used to explore the relationship of various categories to the Popular variable."
   ]
  },
  {
   "cell_type": "code",
   "execution_count": 37,
   "metadata": {
    "scrolled": true
   },
   "outputs": [
    {
     "data": {
      "text/plain": [
       "<matplotlib.axes._subplots.AxesSubplot at 0x1fe036be760>"
      ]
     },
     "execution_count": 37,
     "metadata": {},
     "output_type": "execute_result"
    },
    {
     "data": {
      "image/png": "[encoded data removed]",
      "text/plain": [
       "<Figure size 720x720 with 1 Axes>"
      ]
     },
     "metadata": {
      "needs_background": "light"
     },
     "output_type": "display_data"
    }
   ],
   "source": [
    "plt.figure(figsize = (10, 10))\n",
    "sns.countplot(data = df_explore, y = 'Category', hue = 'Popular')"
   ]
  },
  {
   "cell_type": "markdown",
   "metadata": {},
   "source": [
    "The 'Self Development' category seems to have a high proportion of popular items. So a new variable is created to indicate whether an item belong to this category or not."
   ]
  },
  {
   "cell_type": "code",
   "execution_count": 38,
   "metadata": {
    "scrolled": true
   },
   "outputs": [
    {
     "data": {
      "text/html": [
       "<div>\n",
       "<style scoped>\n",
       "    .dataframe tbody tr th:only-of-type {\n",
       "        vertical-align: middle;\n",
       "    }\n",
       "\n",
       "    .dataframe tbody tr th {\n",
       "        vertical-align: top;\n",
       "    }\n",
       "\n",
       "    .dataframe thead th {\n",
       "        text-align: right;\n",
       "    }\n",
       "</style>\n",
       "<table border=\"1\" class=\"dataframe\">\n",
       "  <thead>\n",
       "    <tr style=\"text-align: right;\">\n",
       "      <th></th>\n",
       "      <th>ASIN</th>\n",
       "      <th>Author</th>\n",
       "      <th>Category</th>\n",
       "      <th>Narrator</th>\n",
       "      <th>Price</th>\n",
       "      <th>Rating</th>\n",
       "      <th>RatingCount</th>\n",
       "      <th>Title</th>\n",
       "      <th>Length</th>\n",
       "      <th>DaysReleased</th>\n",
       "      <th>SelfDevelopment</th>\n",
       "      <th>Popular</th>\n",
       "      <th>RatingCountLog</th>\n",
       "      <th>LengthLog</th>\n",
       "      <th>DaysReleasedLog</th>\n",
       "    </tr>\n",
       "  </thead>\n",
       "  <tbody>\n",
       "    <tr>\n",
       "      <th>0</th>\n",
       "      <td>0062823485</td>\n",
       "      <td>Paul Stanley</td>\n",
       "      <td>Arts &amp; Entertainment</td>\n",
       "      <td>Sean Pratt</td>\n",
       "      <td>20.52</td>\n",
       "      <td>4.0</td>\n",
       "      <td>78</td>\n",
       "      <td>Backstage Pass</td>\n",
       "      <td>278</td>\n",
       "      <td>8521</td>\n",
       "      <td>0</td>\n",
       "      <td>0</td>\n",
       "      <td>1.892095</td>\n",
       "      <td>2.444045</td>\n",
       "      <td>1.778151</td>\n",
       "    </tr>\n",
       "    <tr>\n",
       "      <th>1</th>\n",
       "      <td>B0052OM9XK</td>\n",
       "      <td>Simon Pegg</td>\n",
       "      <td>Arts &amp; Entertainment</td>\n",
       "      <td>Simon Pegg</td>\n",
       "      <td>24.50</td>\n",
       "      <td>4.5</td>\n",
       "      <td>872</td>\n",
       "      <td>Nerd Do Well</td>\n",
       "      <td>290</td>\n",
       "      <td>5639</td>\n",
       "      <td>0</td>\n",
       "      <td>0</td>\n",
       "      <td>2.940516</td>\n",
       "      <td>2.462398</td>\n",
       "      <td>3.468643</td>\n",
       "    </tr>\n",
       "    <tr>\n",
       "      <th>2</th>\n",
       "      <td>B077XN66F8</td>\n",
       "      <td>Sidney Lumet</td>\n",
       "      <td>Arts &amp; Entertainment</td>\n",
       "      <td>Richard M. Davidson</td>\n",
       "      <td>20.99</td>\n",
       "      <td>5.0</td>\n",
       "      <td>90</td>\n",
       "      <td>Making Movies</td>\n",
       "      <td>443</td>\n",
       "      <td>8010</td>\n",
       "      <td>0</td>\n",
       "      <td>1</td>\n",
       "      <td>1.954243</td>\n",
       "      <td>2.646404</td>\n",
       "      <td>2.756636</td>\n",
       "    </tr>\n",
       "    <tr>\n",
       "      <th>3</th>\n",
       "      <td>B00C75YMJ6</td>\n",
       "      <td>Phil Robertson</td>\n",
       "      <td>Arts &amp; Entertainment</td>\n",
       "      <td>Al Robertson, Phil Robertson</td>\n",
       "      <td>20.99</td>\n",
       "      <td>4.5</td>\n",
       "      <td>805</td>\n",
       "      <td>Happy, Happy, Happy</td>\n",
       "      <td>297</td>\n",
       "      <td>6337</td>\n",
       "      <td>0</td>\n",
       "      <td>0</td>\n",
       "      <td>2.905796</td>\n",
       "      <td>2.472756</td>\n",
       "      <td>3.351023</td>\n",
       "    </tr>\n",
       "    <tr>\n",
       "      <th>4</th>\n",
       "      <td>B00DCD16GE</td>\n",
       "      <td>Robert Greenberg, The Great Courses</td>\n",
       "      <td>Arts &amp; Entertainment</td>\n",
       "      <td>Robert Greenberg</td>\n",
       "      <td>52.95</td>\n",
       "      <td>5.0</td>\n",
       "      <td>585</td>\n",
       "      <td>How to Listen to and Understand Opera</td>\n",
       "      <td>1465</td>\n",
       "      <td>6399</td>\n",
       "      <td>0</td>\n",
       "      <td>1</td>\n",
       "      <td>2.767156</td>\n",
       "      <td>3.165838</td>\n",
       "      <td>3.338855</td>\n",
       "    </tr>\n",
       "  </tbody>\n",
       "</table>\n",
       "</div>"
      ],
      "text/plain": [
       "         ASIN                               Author              Category  \\\n",
       "0  0062823485                         Paul Stanley  Arts & Entertainment   \n",
       "1  B0052OM9XK                           Simon Pegg  Arts & Entertainment   \n",
       "2  B077XN66F8                         Sidney Lumet  Arts & Entertainment   \n",
       "3  B00C75YMJ6                       Phil Robertson  Arts & Entertainment   \n",
       "4  B00DCD16GE  Robert Greenberg, The Great Courses  Arts & Entertainment   \n",
       "\n",
       "                       Narrator  Price  Rating  RatingCount  \\\n",
       "0                    Sean Pratt  20.52     4.0           78   \n",
       "1                    Simon Pegg  24.50     4.5          872   \n",
       "2           Richard M. Davidson  20.99     5.0           90   \n",
       "3  Al Robertson, Phil Robertson  20.99     4.5          805   \n",
       "4              Robert Greenberg  52.95     5.0          585   \n",
       "\n",
       "                                   Title  Length  DaysReleased  \\\n",
       "0                         Backstage Pass     278          8521   \n",
       "1                           Nerd Do Well     290          5639   \n",
       "2                          Making Movies     443          8010   \n",
       "3                    Happy, Happy, Happy     297          6337   \n",
       "4  How to Listen to and Understand Opera    1465          6399   \n",
       "\n",
       "   SelfDevelopment  Popular  RatingCountLog  LengthLog  DaysReleasedLog  \n",
       "0                0        0        1.892095   2.444045         1.778151  \n",
       "1                0        0        2.940516   2.462398         3.468643  \n",
       "2                0        1        1.954243   2.646404         2.756636  \n",
       "3                0        0        2.905796   2.472756         3.351023  \n",
       "4                0        1        2.767156   3.165838         3.338855  "
      ]
     },
     "execution_count": 38,
     "metadata": {},
     "output_type": "execute_result"
    }
   ],
   "source": [
    "SelfDevelopment = np.where(df_explore['Category'] == 'Self Development', 1, 0)\n",
    "df_explore.insert(10, 'SelfDevelopment', SelfDevelopment)\n",
    "df_explore.head()"
   ]
  },
  {
   "cell_type": "markdown",
   "metadata": {},
   "source": [
    "## Feature Engineering"
   ]
  },
  {
   "cell_type": "markdown",
   "metadata": {},
   "source": [
    "In this part, the set of features used for model training is selected using logistic regression as a baseline model."
   ]
  },
  {
   "cell_type": "markdown",
   "metadata": {},
   "source": [
    "Extract the Popular variable as the label for model training."
   ]
  },
  {
   "cell_type": "code",
   "execution_count": 39,
   "metadata": {},
   "outputs": [
    {
     "data": {
      "text/plain": [
       "0         0\n",
       "1         0\n",
       "2         1\n",
       "3         0\n",
       "4         1\n",
       "         ..\n",
       "355104    0\n",
       "355105    1\n",
       "355106    1\n",
       "355107    0\n",
       "355108    0\n",
       "Name: Popular, Length: 355109, dtype: int32"
      ]
     },
     "execution_count": 39,
     "metadata": {},
     "output_type": "execute_result"
    }
   ],
   "source": [
    "labels = df_explore['Popular']\n",
    "labels"
   ]
  },
  {
   "cell_type": "code",
   "execution_count": 40,
   "metadata": {},
   "outputs": [
    {
     "data": {
      "text/plain": [
       "0    292539\n",
       "1     62570\n",
       "Name: Popular, dtype: int64"
      ]
     },
     "execution_count": 40,
     "metadata": {},
     "output_type": "execute_result"
    }
   ],
   "source": [
    "labels.value_counts()"
   ]
  },
  {
   "cell_type": "markdown",
   "metadata": {},
   "source": [
    "5 feature sets are candidates for the final choices. Each set is fed into the baseline model to find out the best feature set with the highest accuracy score."
   ]
  },
  {
   "cell_type": "code",
   "execution_count": 41,
   "metadata": {},
   "outputs": [],
   "source": [
    "FeatureSets = [\n",
    "    ['Price', 'RatingCountLog', 'LengthLog', 'DaysReleasedLog', 'SelfDevelopment'],\n",
    "    ['Price', 'LengthLog', 'DaysReleasedLog', 'SelfDevelopment'],\n",
    "    ['Price', 'LengthLog', 'DaysReleasedLog'],\n",
    "    ['Price', 'LengthLog'],\n",
    "    ['Price']\n",
    "]"
   ]
  },
  {
   "cell_type": "code",
   "execution_count": 42,
   "metadata": {},
   "outputs": [],
   "source": [
    "scaler = StandardScaler()\n",
    "LR = LogisticRegression()"
   ]
  },
  {
   "cell_type": "code",
   "execution_count": 43,
   "metadata": {},
   "outputs": [
    {
     "name": "stdout",
     "output_type": "stream",
     "text": [
      "Exploring ['Price', 'RatingCountLog', 'LengthLog', 'DaysReleasedLog', 'SelfDevelopment']\n",
      "Accuracy score: 0.8242446002647067\n",
      "\n",
      "Exploring ['Price', 'LengthLog', 'DaysReleasedLog', 'SelfDevelopment']\n",
      "Accuracy score: 0.8238433161555574\n",
      "\n",
      "Exploring ['Price', 'LengthLog', 'DaysReleasedLog']\n",
      "Accuracy score: 0.823209709667427\n",
      "\n",
      "Exploring ['Price', 'LengthLog']\n",
      "Accuracy score: 0.8224493818816705\n",
      "\n",
      "Exploring ['Price']\n",
      "Accuracy score: 0.8224493818816705\n",
      "\n",
      "Selected feature set: ['Price', 'RatingCountLog', 'LengthLog', 'DaysReleasedLog', 'SelfDevelopment']\n",
      "Accuracy score: 0.8242446002647067\n"
     ]
    }
   ],
   "source": [
    "highest = 0\n",
    "\n",
    "for FeatureSet in FeatureSets:\n",
    "    print('Exploring ' + str(FeatureSet))\n",
    "    \n",
    "    features = scaler.fit_transform(df_explore[FeatureSet])\n",
    "    features = pd.DataFrame(features, columns = FeatureSet)\n",
    "    \n",
    "    X_train, X_test, y_train, y_test = train_test_split(features, labels, test_size = 0.4, random_state = 42)\n",
    "    \n",
    "    LR.fit(X_train, y_train)\n",
    "    predictions = LR.predict(X_test)\n",
    "    score = LR.score(X_test, y_test)\n",
    "    \n",
    "    if score >= highest:\n",
    "        highest = score\n",
    "        SelectedFeatureSet = FeatureSet.copy()\n",
    "    \n",
    "    print('Accuracy score: ' + str(score))\n",
    "    print()\n",
    "    \n",
    "print('Selected feature set: ' + str(SelectedFeatureSet))\n",
    "print('Accuracy score: ' + str(highest))"
   ]
  },
  {
   "cell_type": "markdown",
   "metadata": {},
   "source": [
    "The selected feature set is scaled to avoid bias in model training."
   ]
  },
  {
   "cell_type": "code",
   "execution_count": 44,
   "metadata": {},
   "outputs": [
    {
     "data": {
      "text/html": [
       "<div>\n",
       "<style scoped>\n",
       "    .dataframe tbody tr th:only-of-type {\n",
       "        vertical-align: middle;\n",
       "    }\n",
       "\n",
       "    .dataframe tbody tr th {\n",
       "        vertical-align: top;\n",
       "    }\n",
       "\n",
       "    .dataframe thead th {\n",
       "        text-align: right;\n",
       "    }\n",
       "</style>\n",
       "<table border=\"1\" class=\"dataframe\">\n",
       "  <thead>\n",
       "    <tr style=\"text-align: right;\">\n",
       "      <th></th>\n",
       "      <th>Price</th>\n",
       "      <th>RatingCountLog</th>\n",
       "      <th>LengthLog</th>\n",
       "      <th>DaysReleasedLog</th>\n",
       "      <th>SelfDevelopment</th>\n",
       "    </tr>\n",
       "  </thead>\n",
       "  <tbody>\n",
       "    <tr>\n",
       "      <th>0</th>\n",
       "      <td>0.329443</td>\n",
       "      <td>0.782743</td>\n",
       "      <td>-0.512537</td>\n",
       "      <td>-2.612469</td>\n",
       "      <td>-0.315248</td>\n",
       "    </tr>\n",
       "    <tr>\n",
       "      <th>1</th>\n",
       "      <td>0.753424</td>\n",
       "      <td>1.994469</td>\n",
       "      <td>-0.465666</td>\n",
       "      <td>0.842844</td>\n",
       "      <td>-0.315248</td>\n",
       "    </tr>\n",
       "    <tr>\n",
       "      <th>2</th>\n",
       "      <td>0.379511</td>\n",
       "      <td>0.854571</td>\n",
       "      <td>0.004255</td>\n",
       "      <td>-0.612476</td>\n",
       "      <td>-0.315248</td>\n",
       "    </tr>\n",
       "    <tr>\n",
       "      <th>3</th>\n",
       "      <td>0.379511</td>\n",
       "      <td>1.954341</td>\n",
       "      <td>-0.439212</td>\n",
       "      <td>0.602433</td>\n",
       "      <td>-0.315248</td>\n",
       "    </tr>\n",
       "    <tr>\n",
       "      <th>4</th>\n",
       "      <td>3.784146</td>\n",
       "      <td>1.794106</td>\n",
       "      <td>1.330808</td>\n",
       "      <td>0.577561</td>\n",
       "      <td>-0.315248</td>\n",
       "    </tr>\n",
       "    <tr>\n",
       "      <th>...</th>\n",
       "      <td>...</td>\n",
       "      <td>...</td>\n",
       "      <td>...</td>\n",
       "      <td>...</td>\n",
       "      <td>...</td>\n",
       "    </tr>\n",
       "    <tr>\n",
       "      <th>355104</th>\n",
       "      <td>-0.788036</td>\n",
       "      <td>-0.708231</td>\n",
       "      <td>-1.160480</td>\n",
       "      <td>1.148652</td>\n",
       "      <td>-0.315248</td>\n",
       "    </tr>\n",
       "    <tr>\n",
       "      <th>355105</th>\n",
       "      <td>-1.040508</td>\n",
       "      <td>-1.404069</td>\n",
       "      <td>-2.107414</td>\n",
       "      <td>1.037903</td>\n",
       "      <td>-0.315248</td>\n",
       "    </tr>\n",
       "    <tr>\n",
       "      <th>355106</th>\n",
       "      <td>0.377380</td>\n",
       "      <td>-1.404069</td>\n",
       "      <td>-0.137072</td>\n",
       "      <td>1.126572</td>\n",
       "      <td>-0.315248</td>\n",
       "    </tr>\n",
       "    <tr>\n",
       "      <th>355107</th>\n",
       "      <td>0.377380</td>\n",
       "      <td>-1.404069</td>\n",
       "      <td>-0.477199</td>\n",
       "      <td>1.062270</td>\n",
       "      <td>-0.315248</td>\n",
       "    </tr>\n",
       "    <tr>\n",
       "      <th>355108</th>\n",
       "      <td>0.678855</td>\n",
       "      <td>-1.404069</td>\n",
       "      <td>-0.782193</td>\n",
       "      <td>1.099647</td>\n",
       "      <td>-0.315248</td>\n",
       "    </tr>\n",
       "  </tbody>\n",
       "</table>\n",
       "<p>355109 rows × 5 columns</p>\n",
       "</div>"
      ],
      "text/plain": [
       "           Price  RatingCountLog  LengthLog  DaysReleasedLog  SelfDevelopment\n",
       "0       0.329443        0.782743  -0.512537        -2.612469        -0.315248\n",
       "1       0.753424        1.994469  -0.465666         0.842844        -0.315248\n",
       "2       0.379511        0.854571   0.004255        -0.612476        -0.315248\n",
       "3       0.379511        1.954341  -0.439212         0.602433        -0.315248\n",
       "4       3.784146        1.794106   1.330808         0.577561        -0.315248\n",
       "...          ...             ...        ...              ...              ...\n",
       "355104 -0.788036       -0.708231  -1.160480         1.148652        -0.315248\n",
       "355105 -1.040508       -1.404069  -2.107414         1.037903        -0.315248\n",
       "355106  0.377380       -1.404069  -0.137072         1.126572        -0.315248\n",
       "355107  0.377380       -1.404069  -0.477199         1.062270        -0.315248\n",
       "355108  0.678855       -1.404069  -0.782193         1.099647        -0.315248\n",
       "\n",
       "[355109 rows x 5 columns]"
      ]
     },
     "execution_count": 44,
     "metadata": {},
     "output_type": "execute_result"
    }
   ],
   "source": [
    "features = scaler.fit_transform(df_explore[SelectedFeatureSet])\n",
    "features = pd.DataFrame(features, columns = SelectedFeatureSet)\n",
    "features"
   ]
  },
  {
   "cell_type": "markdown",
   "metadata": {},
   "source": [
    "The dataset is split into training set (60%) and test set (40%)."
   ]
  },
  {
   "cell_type": "code",
   "execution_count": 45,
   "metadata": {},
   "outputs": [],
   "source": [
    "X_train, X_test, y_train, y_test = train_test_split(features, labels, test_size = 0.4, random_state = 42)"
   ]
  },
  {
   "cell_type": "code",
   "execution_count": 46,
   "metadata": {
    "scrolled": true
   },
   "outputs": [],
   "source": [
    "X_train.to_csv('train_features.csv', index = False)\n",
    "X_test.to_csv('test_features.csv', index = False)\n",
    "\n",
    "y_train.to_csv('train_labels.csv', index = False)\n",
    "y_test.to_csv('test_labels.csv', index = False)"
   ]
  },
  {
   "cell_type": "code",
   "execution_count": 47,
   "metadata": {},
   "outputs": [],
   "source": [
    "train_features = pd.read_csv('train_features.csv')\n",
    "train_labels = pd.read_csv('train_labels.csv')"
   ]
  },
  {
   "cell_type": "markdown",
   "metadata": {},
   "source": [
    "## Machine Learning"
   ]
  },
  {
   "cell_type": "markdown",
   "metadata": {},
   "source": [
    "3 algorithm are used for training model - Logistic Regression, Random Forest, Gradient Boosting. \n",
    "\n",
    "For each algorithm, 5-fold cross validation is used to reduce bias during training. A set of hyperparameters in each algorith are used to tune the model for the best results. The best model for each algorithm is then stored for comparison later."
   ]
  },
  {
   "cell_type": "markdown",
   "metadata": {},
   "source": [
    "A function to print model training result for each algorithm later."
   ]
  },
  {
   "cell_type": "code",
   "execution_count": 48,
   "metadata": {},
   "outputs": [],
   "source": [
    "def print_results(results):\n",
    "    print('BEST PARAMS: {}\\n'.format(results.best_params_))\n",
    "\n",
    "    means = results.cv_results_['mean_test_score']\n",
    "    stds = results.cv_results_['std_test_score']\n",
    "\n",
    "    for mean, std, params in zip(means, stds, results.cv_results_['params']):\n",
    "        print('{} (+/-{}) for {}'.format(round(mean, 3), round(std * 2, 3), params))"
   ]
  },
  {
   "cell_type": "markdown",
   "metadata": {},
   "source": [
    "### Model 1 - Logistic Regression"
   ]
  },
  {
   "cell_type": "code",
   "execution_count": 49,
   "metadata": {},
   "outputs": [],
   "source": [
    "model = LogisticRegression(max_iter = 1000)\n",
    "\n",
    "# Use this for quick test\n",
    "# parameters = {'C': [1], 'max_iter': [1000]}\n",
    "\n",
    "# Use this for normal run\n",
    "parameters = {'C': [0.1, 1], 'max_iter': [500, 1000]}\n",
    "\n",
    "# Use this if there is extensive computing power\n",
    "# parameters = {'C': [0.001, 0.01, 0.1, 1, 10, 100, 1000], 'max_iter': [100, 500, 1000]}"
   ]
  },
  {
   "cell_type": "code",
   "execution_count": 50,
   "metadata": {
    "scrolled": true
   },
   "outputs": [
    {
     "name": "stdout",
     "output_type": "stream",
     "text": [
      "BEST PARAMS: {'C': 1, 'max_iter': 500}\n",
      "\n",
      "0.826 (+/-0.002) for {'C': 0.1, 'max_iter': 500}\n",
      "0.826 (+/-0.002) for {'C': 0.1, 'max_iter': 1000}\n",
      "0.826 (+/-0.002) for {'C': 1, 'max_iter': 500}\n",
      "0.826 (+/-0.002) for {'C': 1, 'max_iter': 1000}\n"
     ]
    }
   ],
   "source": [
    "cv = GridSearchCV(model, parameters, cv = 5)\n",
    "cv.fit(train_features, train_labels.values.ravel())\n",
    "print_results(cv)"
   ]
  },
  {
   "cell_type": "code",
   "execution_count": 51,
   "metadata": {},
   "outputs": [
    {
     "data": {
      "text/plain": [
       "LogisticRegression(C=1, max_iter=500)"
      ]
     },
     "execution_count": 51,
     "metadata": {},
     "output_type": "execute_result"
    }
   ],
   "source": [
    "cv.best_estimator_"
   ]
  },
  {
   "cell_type": "code",
   "execution_count": 52,
   "metadata": {
    "scrolled": true
   },
   "outputs": [
    {
     "data": {
      "text/plain": [
       "['LR_model.pkl']"
      ]
     },
     "execution_count": 52,
     "metadata": {},
     "output_type": "execute_result"
    }
   ],
   "source": [
    "joblib.dump(cv.best_estimator_, 'LR_model.pkl')"
   ]
  },
  {
   "cell_type": "markdown",
   "metadata": {},
   "source": [
    "### Model 2 - Random Forest"
   ]
  },
  {
   "cell_type": "code",
   "execution_count": 53,
   "metadata": {},
   "outputs": [],
   "source": [
    "model = RandomForestClassifier()\n",
    "\n",
    "# Use this for quick test\n",
    "# parameters = {'n_estimators': [50], 'max_depth': [32]}\n",
    "\n",
    "# Use this for normal run\n",
    "parameters = {'n_estimators': [5, 50], 'max_depth': [16, 32]}\n",
    "\n",
    "# Use this if there is extensive computing power\n",
    "# parameters = {'n_estimators': [5, 50, 250], 'max_depth': [2, 4, 8, 16, 32, None]}"
   ]
  },
  {
   "cell_type": "code",
   "execution_count": 54,
   "metadata": {},
   "outputs": [
    {
     "name": "stdout",
     "output_type": "stream",
     "text": [
      "BEST PARAMS: {'max_depth': 32, 'n_estimators': 50}\n",
      "\n",
      "0.839 (+/-0.003) for {'max_depth': 16, 'n_estimators': 5}\n",
      "0.846 (+/-0.002) for {'max_depth': 16, 'n_estimators': 50}\n",
      "0.837 (+/-0.002) for {'max_depth': 32, 'n_estimators': 5}\n",
      "0.853 (+/-0.002) for {'max_depth': 32, 'n_estimators': 50}\n"
     ]
    }
   ],
   "source": [
    "cv = GridSearchCV(model, parameters, cv = 5)\n",
    "cv.fit(train_features, train_labels.values.ravel())\n",
    "print_results(cv)"
   ]
  },
  {
   "cell_type": "code",
   "execution_count": 55,
   "metadata": {},
   "outputs": [
    {
     "data": {
      "text/plain": [
       "['RF_model.pkl']"
      ]
     },
     "execution_count": 55,
     "metadata": {},
     "output_type": "execute_result"
    }
   ],
   "source": [
    "joblib.dump(cv.best_estimator_, 'RF_model.pkl')"
   ]
  },
  {
   "cell_type": "markdown",
   "metadata": {},
   "source": [
    "### Model 3 - Gradient Boosting"
   ]
  },
  {
   "cell_type": "code",
   "execution_count": 56,
   "metadata": {},
   "outputs": [],
   "source": [
    "model = GradientBoostingClassifier()\n",
    "\n",
    "# Use this for quick test\n",
    "# parameters = {'n_estimators': [50], 'max_depth': [3], 'learning_rate': [0.1]}\n",
    "\n",
    "# Use this for normal run\n",
    "parameters = {'n_estimators': [5, 50], 'max_depth': [3, 5], 'learning_rate': [0.1, 1]}\n",
    "\n",
    "# Use this if there is extensive computing power\n",
    "# parameters = {'n_estimators': [5, 50, 250, 500], 'max_depth': [1, 3, 5, 7, 9], 'learning_rate': [0.01, 0.1, 1, 10, 100]}"
   ]
  },
  {
   "cell_type": "code",
   "execution_count": 57,
   "metadata": {
    "scrolled": true
   },
   "outputs": [
    {
     "name": "stdout",
     "output_type": "stream",
     "text": [
      "BEST PARAMS: {'learning_rate': 0.1, 'max_depth': 5, 'n_estimators': 50}\n",
      "\n",
      "0.825 (+/-0.0) for {'learning_rate': 0.1, 'max_depth': 3, 'n_estimators': 5}\n",
      "0.834 (+/-0.002) for {'learning_rate': 0.1, 'max_depth': 3, 'n_estimators': 50}\n",
      "0.825 (+/-0.0) for {'learning_rate': 0.1, 'max_depth': 5, 'n_estimators': 5}\n",
      "0.837 (+/-0.001) for {'learning_rate': 0.1, 'max_depth': 5, 'n_estimators': 50}\n",
      "0.83 (+/-0.002) for {'learning_rate': 1, 'max_depth': 3, 'n_estimators': 5}\n",
      "0.836 (+/-0.003) for {'learning_rate': 1, 'max_depth': 3, 'n_estimators': 50}\n",
      "0.835 (+/-0.003) for {'learning_rate': 1, 'max_depth': 5, 'n_estimators': 5}\n",
      "0.836 (+/-0.002) for {'learning_rate': 1, 'max_depth': 5, 'n_estimators': 50}\n"
     ]
    }
   ],
   "source": [
    "cv = GridSearchCV(model, parameters, cv = 5)\n",
    "cv.fit(train_features, train_labels.values.ravel())\n",
    "print_results(cv)"
   ]
  },
  {
   "cell_type": "code",
   "execution_count": 58,
   "metadata": {},
   "outputs": [
    {
     "data": {
      "text/plain": [
       "['GB_model.pkl']"
      ]
     },
     "execution_count": 58,
     "metadata": {},
     "output_type": "execute_result"
    }
   ],
   "source": [
    "joblib.dump(cv.best_estimator_, 'GB_model.pkl')"
   ]
  },
  {
   "cell_type": "markdown",
   "metadata": {},
   "source": [
    "## Evaluating Models"
   ]
  },
  {
   "cell_type": "markdown",
   "metadata": {},
   "source": [
    "The 3 models are now tested using the test set to decide the best model to use. The metrics used for evaluation is accuracy score (Jaccard similarity coefficient), precision, recall, F1 score."
   ]
  },
  {
   "cell_type": "code",
   "execution_count": 59,
   "metadata": {},
   "outputs": [],
   "source": [
    "test_features = pd.read_csv('test_features.csv')\n",
    "test_labels = pd.read_csv('test_labels.csv')"
   ]
  },
  {
   "cell_type": "code",
   "execution_count": 60,
   "metadata": {},
   "outputs": [
    {
     "data": {
      "text/plain": [
       "{'LR': LogisticRegression(C=1, max_iter=500),\n",
       " 'RF': RandomForestClassifier(max_depth=32, n_estimators=50),\n",
       " 'GB': GradientBoostingClassifier(max_depth=5, n_estimators=50)}"
      ]
     },
     "execution_count": 60,
     "metadata": {},
     "output_type": "execute_result"
    }
   ],
   "source": [
    "models = {}\n",
    "\n",
    "for mdl in ['LR', 'RF', 'GB']:\n",
    "    models[mdl] = joblib.load('{}_model.pkl'.format(mdl))\n",
    "    \n",
    "models"
   ]
  },
  {
   "cell_type": "code",
   "execution_count": 61,
   "metadata": {},
   "outputs": [],
   "source": [
    "def evaluate_model(name, model, features, labels):\n",
    "    start = time()\n",
    "    pred = model.predict(features)\n",
    "    end = time()\n",
    "    accuracy = round(accuracy_score(labels, pred), 3)\n",
    "    precision = round(precision_score(labels, pred), 3)\n",
    "    recall = round(recall_score(labels, pred), 3)\n",
    "    f1 = round(f1_score(labels, pred), 3)\n",
    "    print('{} -- Accuracy: {} / Precision: {} / Recall: {} / F1: {} / Latency: {}ms'.\n",
    "          format(name, accuracy, precision, recall, f1, round((end - start)*1000, 1)))"
   ]
  },
  {
   "cell_type": "code",
   "execution_count": 62,
   "metadata": {
    "scrolled": false
   },
   "outputs": [
    {
     "name": "stdout",
     "output_type": "stream",
     "text": [
      "LR -- Accuracy: 0.824 / Precision: 0.522 / Recall: 0.121 / F1: 0.196 / Latency: 71.8ms\n",
      "RF -- Accuracy: 0.859 / Precision: 0.654 / Recall: 0.433 / F1: 0.521 / Latency: 6974.1ms\n",
      "GB -- Accuracy: 0.835 / Precision: 0.602 / Recall: 0.216 / F1: 0.318 / Latency: 492.7ms\n"
     ]
    }
   ],
   "source": [
    "# Test with test set\n",
    "for name, mdl in models.items():\n",
    "    evaluate_model(name, mdl, test_features, test_labels)"
   ]
  },
  {
   "cell_type": "markdown",
   "metadata": {},
   "source": [
    "While the accuracy score is good for all three models, the other metrics do not fare so well. Let's cross check by testing the models on training set and the entire data set."
   ]
  },
  {
   "cell_type": "code",
   "execution_count": 63,
   "metadata": {
    "scrolled": true
   },
   "outputs": [
    {
     "name": "stdout",
     "output_type": "stream",
     "text": [
      "LR -- Accuracy: 0.826 / Precision: 0.517 / Recall: 0.119 / F1: 0.193 / Latency: 22.5ms\n",
      "RF -- Accuracy: 0.997 / Precision: 0.996 / Recall: 0.987 / F1: 0.991 / Latency: 8584.3ms\n",
      "GB -- Accuracy: 0.84 / Precision: 0.618 / Recall: 0.223 / F1: 0.328 / Latency: 748.5ms\n"
     ]
    }
   ],
   "source": [
    "# Test with training set\n",
    "for name, mdl in models.items():\n",
    "    evaluate_model(name, mdl, train_features, train_labels)"
   ]
  },
  {
   "cell_type": "code",
   "execution_count": 64,
   "metadata": {
    "scrolled": false
   },
   "outputs": [
    {
     "name": "stdout",
     "output_type": "stream",
     "text": [
      "LR -- Accuracy: 0.825 / Precision: 0.519 / Recall: 0.12 / F1: 0.194 / Latency: 148.4ms\n",
      "RF -- Accuracy: 0.942 / Precision: 0.89 / Recall: 0.763 / F1: 0.822 / Latency: 11931.0ms\n",
      "GB -- Accuracy: 0.838 / Precision: 0.612 / Recall: 0.22 / F1: 0.324 / Latency: 1042.0ms\n"
     ]
    }
   ],
   "source": [
    "# Test with entire data set\n",
    "for name, mdl in models.items():\n",
    "    evaluate_model(name, mdl, features, labels)"
   ]
  },
  {
   "cell_type": "markdown",
   "metadata": {},
   "source": [
    "Random Forest might have been overfitting for the training set, resulting in an especially high score for all metrics. \n",
    "\n",
    "However, Random Forest is still the best among all 3 models given the entire data set. Therefore, it is the model of choice for this project."
   ]
  },
  {
   "cell_type": "markdown",
   "metadata": {},
   "source": [
    "## Final Model - Random Forest"
   ]
  },
  {
   "cell_type": "markdown",
   "metadata": {},
   "source": [
    "This is the final model with parameters below."
   ]
  },
  {
   "cell_type": "code",
   "execution_count": 65,
   "metadata": {},
   "outputs": [
    {
     "data": {
      "text/plain": [
       "RandomForestClassifier(max_depth=32, n_estimators=50)"
      ]
     },
     "execution_count": 65,
     "metadata": {},
     "output_type": "execute_result"
    }
   ],
   "source": [
    "models['RF']"
   ]
  }
 ],
 "metadata": {
  "kernelspec": {
   "display_name": "Python 3",
   "language": "python",
   "name": "python3"
  },
  "language_info": {
   "codemirror_mode": {
    "name": "ipython",
    "version": 3
   },
   "file_extension": ".py",
   "mimetype": "text/x-python",
   "name": "python",
   "nbconvert_exporter": "python",
   "pygments_lexer": "ipython3",
   "version": "3.8.3"
  }
 },
 "nbformat": 4,
 "nbformat_minor": 4
}
